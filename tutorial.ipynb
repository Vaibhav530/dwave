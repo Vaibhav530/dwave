{
 "cells": [
  {
   "cell_type": "code",
   "execution_count": 1,
   "metadata": {},
   "outputs": [],
   "source": [
    "import dwave_networkx as dnx\n",
    "import numpy as np\n",
    "import dimod"
   ]
  },
  {
   "cell_type": "code",
   "execution_count": 2,
   "metadata": {},
   "outputs": [
    {
     "name": "stdout",
     "output_type": "stream",
     "text": [
      "Help on package dimod:\n",
      "\n",
      "NAME\n",
      "    dimod\n",
      "\n",
      "DESCRIPTION\n",
      "    # Copyright 2018 D-Wave Systems Inc.\n",
      "    #\n",
      "    #    Licensed under the Apache License, Version 2.0 (the \"License\");\n",
      "    #    you may not use this file except in compliance with the License.\n",
      "    #    You may obtain a copy of the License at\n",
      "    #\n",
      "    #        http://www.apache.org/licenses/LICENSE-2.0\n",
      "    #\n",
      "    #    Unless required by applicable law or agreed to in writing, software\n",
      "    #    distributed under the License is distributed on an \"AS IS\" BASIS,\n",
      "    #    WITHOUT WARRANTIES OR CONDITIONS OF ANY KIND, either express or implied.\n",
      "    #    See the License for the specific language governing permissions and\n",
      "    #    limitations under the License.\n",
      "    #\n",
      "    # ================================================================================================\n",
      "\n",
      "PACKAGE CONTENTS\n",
      "    binary_quadratic_model\n",
      "    compatibility23\n",
      "    core (package)\n",
      "    decorators\n",
      "    exceptions\n",
      "    generators (package)\n",
      "    higherorder (package)\n",
      "    meta\n",
      "    package_info\n",
      "    reference (package)\n",
      "    response\n",
      "    roof_duality (package)\n",
      "    sampleset\n",
      "    serialization (package)\n",
      "    testing (package)\n",
      "    utilities\n",
      "    variables\n",
      "    vartypes\n",
      "    views (package)\n",
      "\n",
      "SUBMODULES\n",
      "    _\n",
      "    composite\n",
      "    composites\n",
      "    exact_solver\n",
      "    fixedvariable\n",
      "    higherordercomposites\n",
      "    null_sampler\n",
      "    polysampler\n",
      "    random_sampler\n",
      "    roofduality\n",
      "    sampler\n",
      "    samplers\n",
      "    scalecomposite\n",
      "    simulated_annealing\n",
      "    spin_transform\n",
      "    structure\n",
      "    structured\n",
      "    tracking\n",
      "    truncatecomposite\n",
      "\n",
      "DATA\n",
      "    BINARY = <Vartype.BINARY: frozenset({0, 1})>\n",
      "    SPIN = <Vartype.SPIN: frozenset({1, -1})>\n",
      "    __authoremail__ = 'acondello@dwavesys.com'\n",
      "    __description__ = 'A shared API for binary quadratic model samplers.'\n",
      "    absolute_import = _Feature((2, 5, 0, 'alpha', 1), (3, 0, 0, 'alpha', 0...\n",
      "\n",
      "VERSION\n",
      "    0.8.14\n",
      "\n",
      "AUTHOR\n",
      "    D-Wave Systems Inc.\n",
      "\n",
      "FILE\n",
      "    /home/vaibhav/anaconda3/lib/python3.7/site-packages/dimod/__init__.py\n",
      "\n",
      "\n"
     ]
    }
   ],
   "source": [
    "help(dimod)"
   ]
  },
  {
   "cell_type": "code",
   "execution_count": null,
   "metadata": {},
   "outputs": [],
   "source": []
  }
 ],
 "metadata": {
  "kernelspec": {
   "display_name": "Python 3",
   "language": "python",
   "name": "python3"
  },
  "language_info": {
   "codemirror_mode": {
    "name": "ipython",
    "version": 3
   },
   "file_extension": ".py",
   "mimetype": "text/x-python",
   "name": "python",
   "nbconvert_exporter": "python",
   "pygments_lexer": "ipython3",
   "version": "3.7.3"
  }
 },
 "nbformat": 4,
 "nbformat_minor": 2
}
